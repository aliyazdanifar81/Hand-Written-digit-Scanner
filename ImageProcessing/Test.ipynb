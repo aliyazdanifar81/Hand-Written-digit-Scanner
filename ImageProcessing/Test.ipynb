{
 "cells": [
  {
   "cell_type": "code",
   "execution_count": 42,
   "id": "14e12b97-6b52-46fb-81ec-7c894073fde8",
   "metadata": {},
   "outputs": [],
   "source": [
    "from sklearn.model_selection import train_test_split\n",
    "from tensorflow.keras.preprocessing.image import ImageDataGenerator\n",
    "import matplotlib.pyplot as plt\n",
    "import tensorflow as tf\n",
    "import numpy as np\n",
    "import tarfile\n",
    "import os\n",
    "import cv2"
   ]
  },
  {
   "cell_type": "code",
   "execution_count": 43,
   "id": "af139a42-62a3-411e-b993-22bbb39c5709",
   "metadata": {},
   "outputs": [],
   "source": [
    "# Load the model\n",
    "model = tf.keras.models.load_model('./my_model.h5')"
   ]
  },
  {
   "cell_type": "code",
   "execution_count": 44,
   "id": "ec78a40e-cb42-4e4a-9efe-c0a8e9d5be0e",
   "metadata": {},
   "outputs": [
    {
     "name": "stdout",
     "output_type": "stream",
     "text": [
      "Model: \"sequential_1\"\n",
      "_________________________________________________________________\n",
      " Layer (type)                Output Shape              Param #   \n",
      "=================================================================\n",
      " conv2d_3 (Conv2D)           (None, 26, 26, 32)        320       \n",
      "                                                                 \n",
      " max_pooling2d_2 (MaxPooling  (None, 13, 13, 32)       0         \n",
      " 2D)                                                             \n",
      "                                                                 \n",
      " conv2d_4 (Conv2D)           (None, 11, 11, 64)        18496     \n",
      "                                                                 \n",
      " max_pooling2d_3 (MaxPooling  (None, 5, 5, 64)         0         \n",
      " 2D)                                                             \n",
      "                                                                 \n",
      " conv2d_5 (Conv2D)           (None, 5, 5, 512)         295424    \n",
      "                                                                 \n",
      " average_pooling2d_1 (Averag  (None, 2, 2, 512)        0         \n",
      " ePooling2D)                                                     \n",
      "                                                                 \n",
      " flatten_1 (Flatten)         (None, 2048)              0         \n",
      "                                                                 \n",
      " dense_4 (Dense)             (None, 128)               262272    \n",
      "                                                                 \n",
      " dropout_3 (Dropout)         (None, 128)               0         \n",
      "                                                                 \n",
      " dense_5 (Dense)             (None, 512)               66048     \n",
      "                                                                 \n",
      " dropout_4 (Dropout)         (None, 512)               0         \n",
      "                                                                 \n",
      " dense_6 (Dense)             (None, 128)               65664     \n",
      "                                                                 \n",
      " dropout_5 (Dropout)         (None, 128)               0         \n",
      "                                                                 \n",
      " dense_7 (Dense)             (None, 10)                1290      \n",
      "                                                                 \n",
      "=================================================================\n",
      "Total params: 709,514\n",
      "Trainable params: 709,514\n",
      "Non-trainable params: 0\n",
      "_________________________________________________________________\n"
     ]
    }
   ],
   "source": [
    "# Verify the model\n",
    "model.summary()"
   ]
  },
  {
   "cell_type": "markdown",
   "id": "367aae51-f6ed-4a8e-b3f6-e84dae7a7aeb",
   "metadata": {},
   "source": [
    "# manually test"
   ]
  },
  {
   "cell_type": "code",
   "execution_count": 45,
   "id": "51030441-30e8-48e2-9f27-4d094696c3a7",
   "metadata": {},
   "outputs": [],
   "source": [
    "x, y = [], []\n",
    "sample_num = len(os.listdir('./../hwnumbers/'))"
   ]
  },
  {
   "cell_type": "code",
   "execution_count": 46,
   "id": "a3df87b1-1bec-4685-af16-aa6d6f163dab",
   "metadata": {},
   "outputs": [],
   "source": [
    "for i in os.listdir('./../hwnumbers/'):\n",
    "    data = plt.imread(f'./../hwnumbers/{i}')\n",
    "    data = cv2.cvtColor(data, cv2.COLOR_RGB2GRAY)\n",
    "    _, data = cv2.threshold(data, 180, 255, cv2.THRESH_BINARY_INV)\n",
    "    data = cv2.resize(data, (28, 28), interpolation=cv2.INTER_AREA)\n",
    "    x.append(np.array(data))\n",
    "    y.append(i.split(sep='.')[0])"
   ]
  },
  {
   "cell_type": "code",
   "execution_count": 47,
   "id": "a7b5bf77-fbac-4cba-8f96-faa129cba038",
   "metadata": {},
   "outputs": [
    {
     "data": {
      "image/png": "[encoded data removed]",
      "text/plain": [
       "<Figure size 1500x1500 with 5 Axes>"
      ]
     },
     "metadata": {},
     "output_type": "display_data"
    }
   ],
   "source": [
    "fig, ax = plt.subplots(1, sample_num, figsize=(15,15))\n",
    "ax = ax.flatten()\n",
    "for i in range(sample_num):\n",
    "    ax[i].imshow(x[i], cmap='gray')\n",
    "    ax[i].title.set_text(y[i])"
   ]
  },
  {
   "cell_type": "code",
   "execution_count": 48,
   "id": "cff25409-3896-4abd-8294-8cbbc6fd640d",
   "metadata": {},
   "outputs": [
    {
     "name": "stdout",
     "output_type": "stream",
     "text": [
      "1/1 [==============================] - 4s 4s/step\n",
      "Model Prediction : 0\n",
      "Actual Label : 0\n",
      "1/1 [==============================] - 0s 20ms/step\n",
      "Model Prediction : 3\n",
      "Actual Label : 1\n",
      "1/1 [==============================] - 0s 19ms/step\n",
      "Model Prediction : 2\n",
      "Actual Label : 2\n",
      "1/1 [==============================] - 0s 20ms/step\n",
      "Model Prediction : 5\n",
      "Actual Label : 5\n",
      "1/1 [==============================] - 0s 21ms/step\n",
      "Model Prediction : 6\n",
      "Actual Label : 6\n"
     ]
    }
   ],
   "source": [
    "for i in range(sample_num):\n",
    "    print(f'Model Prediction : {np.argmax(model.predict(x[i].reshape(-1, 28, 28, 1)))}\\nActual Label : {y[i]}')"
   ]
  }
 ],
 "metadata": {
  "kernelspec": {
   "display_name": "Python 3 (ipykernel)",
   "language": "python",
   "name": "python3"
  },
  "language_info": {
   "codemirror_mode": {
    "name": "ipython",
    "version": 3
   },
   "file_extension": ".py",
   "mimetype": "text/x-python",
   "name": "python",
   "nbconvert_exporter": "python",
   "pygments_lexer": "ipython3",
   "version": "3.10.2"
  }
 },
 "nbformat": 4,
 "nbformat_minor": 5
}
